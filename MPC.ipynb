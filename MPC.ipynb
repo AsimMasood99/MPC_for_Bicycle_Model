{
 "cells": [
  {
   "cell_type": "code",
   "execution_count": 5,
   "id": "c393a959",
   "metadata": {},
   "outputs": [],
   "source": [
    "from shapely.geometry import LineString\n",
    "import matplotlib.pyplot as plt\n",
    "import casadi as ca"
   ]
  },
  {
   "cell_type": "code",
   "execution_count": 8,
   "id": "b7870445",
   "metadata": {},
   "outputs": [
    {
     "name": "stdout",
     "output_type": "stream",
     "text": [
      "State shape: (4, 1)\n",
      "Control shape: (2, 1)\n"
     ]
    }
   ],
   "source": [
    "no_states = 4\n",
    "no_inputs = 2\n",
    "predict_horizon = 4\n",
    "dt = 0.2\n",
    "state = ca.MX.sym('state', no_states)\n",
    "control = ca.MX.sym('control', no_inputs)\n",
    "\n",
    "print(\"State shape:\", state.shape)\n",
    "print(\"Control shape:\", control.shape)\n",
    "\n",
    "line_points = [(0,0), (20,0), (40,0)]\n",
    "reference_line = LineString(line_points)"
   ]
  },
  {
   "cell_type": "code",
   "execution_count": null,
   "id": "4b4da003",
   "metadata": {},
   "outputs": [],
   "source": [
    "# Kinematic Bicycle Model\n",
    "# https://thomasfermi.github.io/Algorithms-for-Automated-Driving/Control/BicycleModel.html\n",
    "\n",
    "\n",
    "def vehicle_model(state, control):\n",
    "    x = state[0] # X position\n",
    "    y = state[1] # Y position\n",
    "    theta = state[2] # Heading angle\n",
    "    v = state[3] # Velocity\n",
    "\n",
    "    delta = control[0]  # Steering angle\n",
    "    a = control[1]      # Acceleration\n",
    "\n",
    "    dx = v * ca.cos(theta)\n",
    "    dy = v * ca.sin(theta)\n",
    "    dtheta = (v * ca.tan(delta)) / 2.5  # Assuming wheelbase of 2.5m\n",
    "    dv = a\n",
    "\n",
    "    return ca.vertcat([dx, dy, dtheta, dv])\n",
    "\n",
    "\n",
    "def rk2(state, u):\n",
    "    k1 = dt * vehicle_model(state, u)\n",
    "    k2 = dt * vehicle_model(state + 0.5 * k1, u)\n",
    "    next_state = state + k2\n",
    "    return next_state\n",
    "\n",
    "def cost_function(state, control):\n",
    "    # x = state[0]\n",
    "    y = state[1]\n",
    "    # theta = state[2]\n",
    "    # v = state[3]\n",
    "\n",
    "    delta = control[0]  \n",
    "    a = control[1]       \n",
    "\n",
    "    cost = 0.0\n",
    "\n",
    "    cost += y**2 \n",
    "    cost += 0.1 * delta**2 + 0.1 * a**2\n",
    "    return cost"
   ]
  },
  {
   "cell_type": "code",
   "execution_count": null,
   "id": "82e25d77",
   "metadata": {},
   "outputs": [],
   "source": []
  }
 ],
 "metadata": {
  "kernelspec": {
   "display_name": ".venv (3.13.5)",
   "language": "python",
   "name": "python3"
  },
  "language_info": {
   "codemirror_mode": {
    "name": "ipython",
    "version": 3
   },
   "file_extension": ".py",
   "mimetype": "text/x-python",
   "name": "python",
   "nbconvert_exporter": "python",
   "pygments_lexer": "ipython3",
   "version": "3.13.5"
  }
 },
 "nbformat": 4,
 "nbformat_minor": 5
}
